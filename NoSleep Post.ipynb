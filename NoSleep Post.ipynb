{
 "metadata": {
  "name": ""
 },
 "nbformat": 3,
 "nbformat_minor": 0,
 "worksheets": [
  {
   "cells": [
    {
     "cell_type": "markdown",
     "metadata": {},
     "source": [
      "Original post: http://www.reddit.com/r/nosleep/comments/2bcrk5/my_son_is_currently_serving_in_afghanistan_two/"
     ]
    },
    {
     "cell_type": "code",
     "collapsed": false,
     "input": [
      "text = (\n",
      "    \"HeL, lo Mom, \"\n",
      "    \"Im, sO, rRYi, dIDn, t, Wri, Teto, YoUS, O, oN, eRif, ee, \"\n",
      "    \"Lter, rI, Bl, E, ABO, uTr, U, nnI, nGa, w, Ay, BUT, iwAn, \"\n",
      "    \"TYO, UTO, Kno, W, that, i MfIN, eIM, co, mIng, hOme, SoO, \"\n",
      "    \"ni, lOve, yOus, OM, u, chic, a, nTwa, iTTo, seey, o, uImo, \"\n",
      "    \"kLOv, eyou, m, oMby, eBYe\"\n",
      ")"
     ],
     "language": "python",
     "metadata": {},
     "outputs": [],
     "prompt_number": 20
    },
    {
     "cell_type": "markdown",
     "metadata": {},
     "source": [
      "Define the morse code"
     ]
    },
    {
     "cell_type": "code",
     "collapsed": false,
     "input": [
      "ALPHA_MORSE = {\n",
      "    'A': '.-',     'B': '-...',   'C': '-.-.', \n",
      "    'D': '-..',    'E': '.',      'F': '..-.',\n",
      "    'G': '--.',    'H': '....',   'I': '..',\n",
      "    'J': '.---',   'K': '-.-',    'L': '.-..',\n",
      "    'M': '--',     'N': '-.',     'O': '---',\n",
      "    'P': '.--.',   'Q': '--.-',   'R': '.-.',\n",
      "    'S': '...',    'T': '-',      'U': '..-',\n",
      "    'V': '...-',   'W': '.--',    'X': '-..-',\n",
      "    'Y': '-.--',   'Z': '--..',\n",
      "    \n",
      "    '0': '-----',  '1': '.----',  '2': '..---',\n",
      "    '3': '...--',  '4': '....-',  '5': '.....',\n",
      "    '6': '-....',  '7': '--...',  '8': '---..',\n",
      "    '9': '----.' \n",
      "}"
     ],
     "language": "python",
     "metadata": {},
     "outputs": [],
     "prompt_number": 12
    },
    {
     "cell_type": "code",
     "collapsed": false,
     "input": [
      "MORSE_ALPHA = {v:k for k,v in ALPHA_MORSE.iteritems()}; MORSE_ALPHA"
     ],
     "language": "python",
     "metadata": {},
     "outputs": [
      {
       "metadata": {},
       "output_type": "pyout",
       "prompt_number": 13,
       "text": [
        "{'-': 'T',\n",
        " '--': 'M',\n",
        " '---': 'O',\n",
        " '-----': '0',\n",
        " '----.': '9',\n",
        " '---..': '8',\n",
        " '--.': 'G',\n",
        " '--.-': 'Q',\n",
        " '--..': 'Z',\n",
        " '--...': '7',\n",
        " '-.': 'N',\n",
        " '-.-': 'K',\n",
        " '-.--': 'Y',\n",
        " '-.-.': 'C',\n",
        " '-..': 'D',\n",
        " '-..-': 'X',\n",
        " '-...': 'B',\n",
        " '-....': '6',\n",
        " '.': 'E',\n",
        " '.-': 'A',\n",
        " '.--': 'W',\n",
        " '.---': 'J',\n",
        " '.----': '1',\n",
        " '.--.': 'P',\n",
        " '.-.': 'R',\n",
        " '.-..': 'L',\n",
        " '..': 'I',\n",
        " '..-': 'U',\n",
        " '..---': '2',\n",
        " '..-.': 'F',\n",
        " '...': 'S',\n",
        " '...-': 'V',\n",
        " '...--': '3',\n",
        " '....': 'H',\n",
        " '....-': '4',\n",
        " '.....': '5'}"
       ]
      }
     ],
     "prompt_number": 13
    },
    {
     "cell_type": "markdown",
     "metadata": {},
     "source": [
      "Create a function to easily modify our \"guesses\" of what the translation scheme is"
     ]
    },
    {
     "cell_type": "code",
     "collapsed": false,
     "input": [
      "def trans(c):\n",
      "    if c.isupper():\n",
      "        return '-'\n",
      "    elif c.islower():\n",
      "        return '.'\n",
      "    else:\n",
      "        return ' '"
     ],
     "language": "python",
     "metadata": {},
     "outputs": [],
     "prompt_number": 46
    },
    {
     "cell_type": "code",
     "collapsed": false,
     "input": [
      "translated_text = ''.join(map(trans, text)); translated_text"
     ],
     "language": "python",
     "metadata": {},
     "outputs": [
      {
       "metadata": {},
       "output_type": "pyout",
       "prompt_number": 47,
       "text": [
        "'-.-  .. -..  -.  .-  .--.  .--.  .  -..  -...  -.--  -  .-  .-..  ..  -...  .-  -.  -  ---  .-.  -  ..-  .-.  .  -.  ---  ..-.  ---  ---  -..  -  ....  . -.--  .--  ..  .-..  .-..  -.-  ..  .-..  .-..  --  .  ....  .  .-..  .--.  ....  .  .-..  .--.  ....  .  .-..  .--.'"
       ]
      }
     ],
     "prompt_number": 47
    },
    {
     "cell_type": "markdown",
     "metadata": {},
     "source": [
      "Now we translate from morse"
     ]
    },
    {
     "cell_type": "code",
     "collapsed": false,
     "input": [
      "''.join(map(lambda c: MORSE_ALPHA.get(c, '?'), translated_text.split()))"
     ],
     "language": "python",
     "metadata": {},
     "outputs": [
      {
       "metadata": {},
       "output_type": "pyout",
       "prompt_number": 48,
       "text": [
        "'KIDNAPPEDBYTALIBANTORTURENOFOODTHEYWILLKILLMEHELPHELPHELP'"
       ]
      }
     ],
     "prompt_number": 48
    },
    {
     "cell_type": "markdown",
     "metadata": {},
     "source": [
      "Shit got real, yo"
     ]
    }
   ],
   "metadata": {}
  }
 ]
}