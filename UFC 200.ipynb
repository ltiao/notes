{
 "cells": [
  {
   "cell_type": "code",
   "execution_count": 1,
   "metadata": {
    "collapsed": true
   },
   "outputs": [],
   "source": [
    "%matplotlib inline"
   ]
  },
  {
   "cell_type": "code",
   "execution_count": 2,
   "metadata": {
    "collapsed": true
   },
   "outputs": [],
   "source": [
    "import requests\n",
    "import pandas as pd\n",
    "import matplotlib\n",
    "\n",
    "matplotlib.style.use('ggplot')"
   ]
  },
  {
   "cell_type": "code",
   "execution_count": 3,
   "metadata": {
    "collapsed": true
   },
   "outputs": [],
   "source": [
    "r = requests.get('http://m.au.ufc.com/fm/api/event/detail/778.json')"
   ]
  },
  {
   "cell_type": "code",
   "execution_count": 4,
   "metadata": {
    "collapsed": false
   },
   "outputs": [
    {
     "data": {
      "text/plain": [
       "dict_keys(['GMT', 'Attendance', 'Organization', 'statid', 'Date', 'Time', 'Location', 'FightCard', 'Name', 'Status'])"
      ]
     },
     "execution_count": 4,
     "metadata": {},
     "output_type": "execute_result"
    }
   ],
   "source": [
    "r.json().keys()"
   ]
  },
  {
   "cell_type": "code",
   "execution_count": 5,
   "metadata": {
    "collapsed": false
   },
   "outputs": [
    {
     "data": {
      "text/plain": [
       "'Active'"
      ]
     },
     "execution_count": 5,
     "metadata": {},
     "output_type": "execute_result"
    }
   ],
   "source": [
    "r.json().get('Status')"
   ]
  },
  {
   "cell_type": "code",
   "execution_count": 6,
   "metadata": {
    "collapsed": false
   },
   "outputs": [],
   "source": [
    "r.json().get('Attendance')"
   ]
  },
  {
   "cell_type": "code",
   "execution_count": 7,
   "metadata": {
    "collapsed": false
   },
   "outputs": [
    {
     "data": {
      "text/plain": [
       "'UFC 200: Tate vs Nunes'"
      ]
     },
     "execution_count": 7,
     "metadata": {},
     "output_type": "execute_result"
    }
   ],
   "source": [
    "r.json().get('Name')"
   ]
  },
  {
   "cell_type": "code",
   "execution_count": 8,
   "metadata": {
    "collapsed": false
   },
   "outputs": [
    {
     "data": {
      "text/plain": [
       "'778'"
      ]
     },
     "execution_count": 8,
     "metadata": {},
     "output_type": "execute_result"
    }
   ],
   "source": [
    "r.json().get('statid')"
   ]
  },
  {
   "cell_type": "code",
   "execution_count": 9,
   "metadata": {
    "collapsed": false
   },
   "outputs": [
    {
     "data": {
      "text/plain": [
       "{'City': 'Las Vegas',\n",
       " 'Country': 'USA',\n",
       " 'State': 'Nevada',\n",
       " 'Venue': 'T-Mobile Arena'}"
      ]
     },
     "execution_count": 9,
     "metadata": {},
     "output_type": "execute_result"
    }
   ],
   "source": [
    "r.json().get('Location')"
   ]
  },
  {
   "cell_type": "code",
   "execution_count": 10,
   "metadata": {
    "collapsed": false
   },
   "outputs": [
    {
     "data": {
      "text/plain": [
       "'18:30:00'"
      ]
     },
     "execution_count": 10,
     "metadata": {},
     "output_type": "execute_result"
    }
   ],
   "source": [
    "r.json().get('Time')"
   ]
  },
  {
   "cell_type": "code",
   "execution_count": 11,
   "metadata": {
    "collapsed": false
   },
   "outputs": [
    {
     "data": {
      "text/plain": [
       "'2016-07-09'"
      ]
     },
     "execution_count": 11,
     "metadata": {},
     "output_type": "execute_result"
    }
   ],
   "source": [
    "r.json().get('Date')"
   ]
  },
  {
   "cell_type": "code",
   "execution_count": 12,
   "metadata": {
    "collapsed": false
   },
   "outputs": [
    {
     "data": {
      "text/plain": [
       "'2016-07-09T22:30Z'"
      ]
     },
     "execution_count": 12,
     "metadata": {},
     "output_type": "execute_result"
    }
   ],
   "source": [
    "r.json().get('GMT')"
   ]
  },
  {
   "cell_type": "code",
   "execution_count": 13,
   "metadata": {
    "collapsed": false
   },
   "outputs": [
    {
     "data": {
      "text/plain": [
       "{'Name': 'Ultimate Fighting Championship', 'OrganizationID': '1'}"
      ]
     },
     "execution_count": 13,
     "metadata": {},
     "output_type": "execute_result"
    }
   ],
   "source": [
    "r.json().get('Organization')"
   ]
  },
  {
   "cell_type": "code",
   "execution_count": 14,
   "metadata": {
    "collapsed": false
   },
   "outputs": [
    {
     "data": {
      "text/plain": [
       "12"
      ]
     },
     "execution_count": 14,
     "metadata": {},
     "output_type": "execute_result"
    }
   ],
   "source": [
    "len(r.json().get('FightCard'))"
   ]
  },
  {
   "cell_type": "code",
   "execution_count": 15,
   "metadata": {
    "collapsed": false
   },
   "outputs": [
    {
     "data": {
      "text/plain": [
       "dict_keys(['Fighters', 'statid', 'Accolade', 'Result', 'Stats', 'RuleSet', 'FightOrder', 'WeightClass', 'Referee'])"
      ]
     },
     "execution_count": 15,
     "metadata": {},
     "output_type": "execute_result"
    }
   ],
   "source": [
    "r.json().get('FightCard')[1].keys()"
   ]
  },
  {
   "cell_type": "code",
   "execution_count": 16,
   "metadata": {
    "collapsed": false
   },
   "outputs": [
    {
     "data": {
      "text/plain": [
       "'6160'"
      ]
     },
     "execution_count": 16,
     "metadata": {},
     "output_type": "execute_result"
    }
   ],
   "source": [
    "r.json()['FightCard'][1]['statid']"
   ]
  },
  {
   "cell_type": "code",
   "execution_count": 17,
   "metadata": {
    "collapsed": false
   },
   "outputs": [
    {
     "data": {
      "text/html": [
       "<div>\n",
       "<table border=\"1\" class=\"dataframe\">\n",
       "  <thead>\n",
       "    <tr style=\"text-align: right;\">\n",
       "      <th></th>\n",
       "      <th>Age</th>\n",
       "      <th>Born</th>\n",
       "      <th>DOB</th>\n",
       "      <th>FightingOutOf</th>\n",
       "      <th>Height</th>\n",
       "      <th>KOOfTheNight</th>\n",
       "      <th>MMAID</th>\n",
       "      <th>Name</th>\n",
       "      <th>Outcome</th>\n",
       "      <th>PerformanceOfTheNight</th>\n",
       "      <th>Reach</th>\n",
       "      <th>Record</th>\n",
       "      <th>Stance</th>\n",
       "      <th>SubmissionOfTheNight</th>\n",
       "      <th>UFCLink</th>\n",
       "      <th>UFCWeightClass</th>\n",
       "      <th>WeighIn</th>\n",
       "      <th>Weight</th>\n",
       "      <th>statid</th>\n",
       "    </tr>\n",
       "  </thead>\n",
       "  <tbody>\n",
       "    <tr>\n",
       "      <th>0</th>\n",
       "      <td>38</td>\n",
       "      <td>{'State': 'South Dakota', 'City': 'Webster', '...</td>\n",
       "      <td>1977-07-12</td>\n",
       "      <td>{'State': 'Saskatchewan', 'City': 'Regina', 'C...</td>\n",
       "      <td>75</td>\n",
       "      <td>None</td>\n",
       "      <td>102665</td>\n",
       "      <td>{'FirstName': 'Brock', 'NickName': None, 'Last...</td>\n",
       "      <td>{'Outcome': 'Win', 'OutcomeID': '1'}</td>\n",
       "      <td>None</td>\n",
       "      <td>81.0</td>\n",
       "      <td>{'Losses': '3', 'Draws': '0', 'Wins': '6', 'No...</td>\n",
       "      <td>Orthodox</td>\n",
       "      <td>None</td>\n",
       "      <td>http://www.ufc.com/fighter/Brock-Lesnar</td>\n",
       "      <td>{'Abbreviation': 'HW', 'WeightClassID': '1', '...</td>\n",
       "      <td>None</td>\n",
       "      <td>265</td>\n",
       "      <td>305</td>\n",
       "    </tr>\n",
       "    <tr>\n",
       "      <th>1</th>\n",
       "      <td>42</td>\n",
       "      <td>{'State': None, 'City': 'Auckland', 'Country':...</td>\n",
       "      <td>1974-03-23</td>\n",
       "      <td>{'State': None, 'City': 'Auckland', 'Country':...</td>\n",
       "      <td>70</td>\n",
       "      <td>None</td>\n",
       "      <td>117463</td>\n",
       "      <td>{'FirstName': 'Mark', 'NickName': 'Super Samoa...</td>\n",
       "      <td>{'Outcome': 'Loss', 'OutcomeID': '2'}</td>\n",
       "      <td>None</td>\n",
       "      <td>72.0</td>\n",
       "      <td>{'Losses': '11', 'Draws': '1', 'Wins': '12', '...</td>\n",
       "      <td>Orthodox</td>\n",
       "      <td>None</td>\n",
       "      <td>http://www.ufc.com/fighter/mark-hunt</td>\n",
       "      <td>{'Abbreviation': 'HW', 'WeightClassID': '1', '...</td>\n",
       "      <td>None</td>\n",
       "      <td>265</td>\n",
       "      <td>735</td>\n",
       "    </tr>\n",
       "  </tbody>\n",
       "</table>\n",
       "</div>"
      ],
      "text/plain": [
       "  Age                                               Born         DOB  \\\n",
       "0  38  {'State': 'South Dakota', 'City': 'Webster', '...  1977-07-12   \n",
       "1  42  {'State': None, 'City': 'Auckland', 'Country':...  1974-03-23   \n",
       "\n",
       "                                       FightingOutOf Height KOOfTheNight  \\\n",
       "0  {'State': 'Saskatchewan', 'City': 'Regina', 'C...     75         None   \n",
       "1  {'State': None, 'City': 'Auckland', 'Country':...     70         None   \n",
       "\n",
       "    MMAID                                               Name  \\\n",
       "0  102665  {'FirstName': 'Brock', 'NickName': None, 'Last...   \n",
       "1  117463  {'FirstName': 'Mark', 'NickName': 'Super Samoa...   \n",
       "\n",
       "                                 Outcome PerformanceOfTheNight Reach  \\\n",
       "0   {'Outcome': 'Win', 'OutcomeID': '1'}                  None  81.0   \n",
       "1  {'Outcome': 'Loss', 'OutcomeID': '2'}                  None  72.0   \n",
       "\n",
       "                                              Record    Stance  \\\n",
       "0  {'Losses': '3', 'Draws': '0', 'Wins': '6', 'No...  Orthodox   \n",
       "1  {'Losses': '11', 'Draws': '1', 'Wins': '12', '...  Orthodox   \n",
       "\n",
       "  SubmissionOfTheNight                                  UFCLink  \\\n",
       "0                 None  http://www.ufc.com/fighter/Brock-Lesnar   \n",
       "1                 None     http://www.ufc.com/fighter/mark-hunt   \n",
       "\n",
       "                                      UFCWeightClass WeighIn Weight statid  \n",
       "0  {'Abbreviation': 'HW', 'WeightClassID': '1', '...    None    265    305  \n",
       "1  {'Abbreviation': 'HW', 'WeightClassID': '1', '...    None    265    735  "
      ]
     },
     "execution_count": 17,
     "metadata": {},
     "output_type": "execute_result"
    }
   ],
   "source": [
    "pd.DataFrame.from_dict(r.json()['FightCard'][1]['Fighters'])"
   ]
  },
  {
   "cell_type": "code",
   "execution_count": 52,
   "metadata": {
    "collapsed": false
   },
   "outputs": [
    {
     "data": {
      "text/html": [
       "<div>\n",
       "<table border=\"1\" class=\"dataframe\">\n",
       "  <thead>\n",
       "    <tr style=\"text-align: right;\">\n",
       "      <th></th>\n",
       "      <th>KnockDowns</th>\n",
       "      <th>Passes</th>\n",
       "      <th>Reversals</th>\n",
       "      <th>SigBodyStrikesAttempted</th>\n",
       "      <th>SigBodyStrikesLanded</th>\n",
       "      <th>SigHeadStrikesAttempted</th>\n",
       "      <th>SigHeadStrikesLanded</th>\n",
       "      <th>SigLegStrikesAttempted</th>\n",
       "      <th>SigLegStrikesLanded</th>\n",
       "      <th>SigStrikesAccuracy</th>\n",
       "      <th>SigStrikesAttempted</th>\n",
       "      <th>SigStrikesLanded</th>\n",
       "      <th>SubmissionsAttempted</th>\n",
       "      <th>TakedownsAccuracy</th>\n",
       "      <th>TakedownsAttempted</th>\n",
       "      <th>TakedownsLanded</th>\n",
       "      <th>TotalStrikesAttempted</th>\n",
       "      <th>TotalStrikesLanded</th>\n",
       "    </tr>\n",
       "  </thead>\n",
       "  <tbody>\n",
       "    <tr>\n",
       "      <th>Brock Lesnar</th>\n",
       "      <td>0.0</td>\n",
       "      <td>4.0</td>\n",
       "      <td>0.0</td>\n",
       "      <td>2.0</td>\n",
       "      <td>2.0</td>\n",
       "      <td>71.0</td>\n",
       "      <td>47.0</td>\n",
       "      <td>2.0</td>\n",
       "      <td>2.0</td>\n",
       "      <td>68.00</td>\n",
       "      <td>75.0</td>\n",
       "      <td>51.0</td>\n",
       "      <td>0.0</td>\n",
       "      <td>50.0</td>\n",
       "      <td>8.0</td>\n",
       "      <td>4.0</td>\n",
       "      <td>167.0</td>\n",
       "      <td>137.0</td>\n",
       "    </tr>\n",
       "    <tr>\n",
       "      <th>Mark Hunt</th>\n",
       "      <td>0.0</td>\n",
       "      <td>0.0</td>\n",
       "      <td>0.0</td>\n",
       "      <td>1.0</td>\n",
       "      <td>1.0</td>\n",
       "      <td>31.0</td>\n",
       "      <td>12.0</td>\n",
       "      <td>0.0</td>\n",
       "      <td>0.0</td>\n",
       "      <td>40.63</td>\n",
       "      <td>32.0</td>\n",
       "      <td>13.0</td>\n",
       "      <td>0.0</td>\n",
       "      <td>0.0</td>\n",
       "      <td>0.0</td>\n",
       "      <td>0.0</td>\n",
       "      <td>68.0</td>\n",
       "      <td>46.0</td>\n",
       "    </tr>\n",
       "  </tbody>\n",
       "</table>\n",
       "</div>"
      ],
      "text/plain": [
       "              KnockDowns  Passes  Reversals  SigBodyStrikesAttempted  \\\n",
       "Brock Lesnar         0.0     4.0        0.0                      2.0   \n",
       "Mark Hunt            0.0     0.0        0.0                      1.0   \n",
       "\n",
       "              SigBodyStrikesLanded  SigHeadStrikesAttempted  \\\n",
       "Brock Lesnar                   2.0                     71.0   \n",
       "Mark Hunt                      1.0                     31.0   \n",
       "\n",
       "              SigHeadStrikesLanded  SigLegStrikesAttempted  \\\n",
       "Brock Lesnar                  47.0                     2.0   \n",
       "Mark Hunt                     12.0                     0.0   \n",
       "\n",
       "              SigLegStrikesLanded  SigStrikesAccuracy  SigStrikesAttempted  \\\n",
       "Brock Lesnar                  2.0               68.00                 75.0   \n",
       "Mark Hunt                     0.0               40.63                 32.0   \n",
       "\n",
       "              SigStrikesLanded  SubmissionsAttempted  TakedownsAccuracy  \\\n",
       "Brock Lesnar              51.0                   0.0               50.0   \n",
       "Mark Hunt                 13.0                   0.0                0.0   \n",
       "\n",
       "              TakedownsAttempted  TakedownsLanded  TotalStrikesAttempted  \\\n",
       "Brock Lesnar                 8.0              4.0                  167.0   \n",
       "Mark Hunt                    0.0              0.0                   68.0   \n",
       "\n",
       "              TotalStrikesLanded  \n",
       "Brock Lesnar               137.0  \n",
       "Mark Hunt                   46.0  "
      ]
     },
     "execution_count": 52,
     "metadata": {},
     "output_type": "execute_result"
    }
   ],
   "source": [
    "df = pd.DataFrame(r.json()['FightCard'][1]['Stats'], \n",
    "                  index = ['{FirstName} {LastName}'.format(**f['Name'])\n",
    "                           for f in r.json()['FightCard'][1]['Fighters']], \n",
    "                  dtype = 'float64')\n",
    "df.drop(['statid'], axis=1, inplace=True)\n",
    "df"
   ]
  },
  {
   "cell_type": "code",
   "execution_count": 63,
   "metadata": {
    "collapsed": false
   },
   "outputs": [
    {
     "data": {
      "text/plain": [
       "<matplotlib.axes._subplots.AxesSubplot at 0x10c825630>"
      ]
     },
     "execution_count": 63,
     "metadata": {},
     "output_type": "execute_result"
    },
    {
     "data": {
      "image/png": "[encoded data removed]",
      "text/plain": [
       "<matplotlib.figure.Figure at 0x10c8066a0>"
      ]
     },
     "metadata": {},
     "output_type": "display_data"
    }
   ],
   "source": [
    "df.T.plot.barh(figsize=(10, 10))"
   ]
  },
  {
   "cell_type": "code",
   "execution_count": 54,
   "metadata": {
    "collapsed": false
   },
   "outputs": [],
   "source": [
    "df['TotalStrikesMissed'] = df['TotalStrikesAttempted']- df['TotalStrikesLanded']"
   ]
  },
  {
   "cell_type": "code",
   "execution_count": 60,
   "metadata": {
    "collapsed": false
   },
   "outputs": [
    {
     "data": {
      "text/plain": [
       "<matplotlib.axes._subplots.AxesSubplot at 0x10c473358>"
      ]
     },
     "execution_count": 60,
     "metadata": {},
     "output_type": "execute_result"
    },
    {
     "data": {
      "image/png": "[encoded data removed]",
      "text/plain": [
       "<matplotlib.figure.Figure at 0x10c47a3c8>"
      ]
     },
     "metadata": {},
     "output_type": "display_data"
    }
   ],
   "source": [
    "df[['TotalStrikesLanded', 'TotalStrikesMissed']].plot.bar(stacked=True)"
   ]
  },
  {
   "cell_type": "code",
   "execution_count": 91,
   "metadata": {
    "collapsed": false
   },
   "outputs": [
    {
     "data": {
      "text/plain": [
       "array([<matplotlib.axes._subplots.AxesSubplot object at 0x1100b7b00>,\n",
       "       <matplotlib.axes._subplots.AxesSubplot object at 0x110103ac8>], dtype=object)"
      ]
     },
     "execution_count": 91,
     "metadata": {},
     "output_type": "execute_result"
    },
    {
     "data": {
      "image/png": "[encoded data removed]",
      "text/plain": [
       "<matplotlib.figure.Figure at 0x10ff55d68>"
      ]
     },
     "metadata": {},
     "output_type": "display_data"
    }
   ],
   "source": [
    "df[['TotalStrikesLanded', 'TotalStrikesMissed']].T.plot.pie(subplots=True, autopct='%.2f', figsize=(10, 5))"
   ]
  },
  {
   "cell_type": "code",
   "execution_count": null,
   "metadata": {
    "collapsed": true
   },
   "outputs": [],
   "source": []
  }
 ],
 "metadata": {
  "kernelspec": {
   "display_name": "Python 3",
   "language": "python",
   "name": "python3"
  },
  "language_info": {
   "codemirror_mode": {
    "name": "ipython",
    "version": 3
   },
   "file_extension": ".py",
   "mimetype": "text/x-python",
   "name": "python",
   "nbconvert_exporter": "python",
   "pygments_lexer": "ipython3",
   "version": "3.5.1"
  }
 },
 "nbformat": 4,
 "nbformat_minor": 0
}
