{
 "metadata": {
  "name": "",
  "signature": "sha256:bb65551bd27de5a546f0c29dcfe7fa707e2e1f86d6cc3b9a00791ada6c916ee4"
 },
 "nbformat": 3,
 "nbformat_minor": 0,
 "worksheets": [
  {
   "cells": [
    {
     "cell_type": "markdown",
     "metadata": {},
     "source": [
      "Now recommended over `%pylab inline` "
     ]
    },
    {
     "cell_type": "code",
     "collapsed": false,
     "input": [
      "%matplotlib inline"
     ],
     "language": "python",
     "metadata": {},
     "outputs": [],
     "prompt_number": 15
    },
    {
     "cell_type": "markdown",
     "metadata": {},
     "source": [
      "With this, we introduce the following namespaces"
     ]
    },
    {
     "cell_type": "code",
     "collapsed": false,
     "input": [
      "matplotlib"
     ],
     "language": "python",
     "metadata": {},
     "outputs": [
      {
       "output_type": "stream",
       "stream": "stdout",
       "text": [
        "Using matplotlib backend: MacOSX\n"
       ]
      }
     ],
     "prompt_number": 2
    },
    {
     "cell_type": "code",
     "collapsed": false,
     "input": [
      "pylab"
     ],
     "language": "python",
     "metadata": {},
     "outputs": [
      {
       "output_type": "stream",
       "stream": "stdout",
       "text": [
        "Using matplotlib backend: MacOSX\n",
        "Populating the interactive namespace from numpy and matplotlib\n"
       ]
      }
     ],
     "prompt_number": 3
    },
    {
     "cell_type": "code",
     "collapsed": false,
     "input": [
      "pyplot"
     ],
     "language": "python",
     "metadata": {},
     "outputs": [
      {
       "metadata": {},
       "output_type": "pyout",
       "prompt_number": 4,
       "text": [
        "<module 'matplotlib.pyplot' from '/Users/tiao/anaconda/lib/python2.7/site-packages/matplotlib/pyplot.pyc'>"
       ]
      }
     ],
     "prompt_number": 4
    },
    {
     "cell_type": "code",
     "collapsed": false,
     "input": [
      "plt"
     ],
     "language": "python",
     "metadata": {},
     "outputs": [
      {
       "metadata": {},
       "output_type": "pyout",
       "prompt_number": 5,
       "text": [
        "<module 'matplotlib.pyplot' from '/Users/tiao/anaconda/lib/python2.7/site-packages/matplotlib/pyplot.pyc'>"
       ]
      }
     ],
     "prompt_number": 5
    },
    {
     "cell_type": "code",
     "collapsed": false,
     "input": [
      "mlab"
     ],
     "language": "python",
     "metadata": {},
     "outputs": [
      {
       "metadata": {},
       "output_type": "pyout",
       "prompt_number": 6,
       "text": [
        "<module 'matplotlib.mlab' from '/Users/tiao/anaconda/lib/python2.7/site-packages/matplotlib/mlab.pyc'>"
       ]
      }
     ],
     "prompt_number": 6
    },
    {
     "cell_type": "markdown",
     "metadata": {},
     "source": [
      "Because we are all responsible adults here, we ought to stick with the cleaner object-oriented interface `pyplot` (`plt`)"
     ]
    },
    {
     "cell_type": "code",
     "collapsed": false,
     "input": [
      "import numpy as np\n",
      "import pandas as pd"
     ],
     "language": "python",
     "metadata": {},
     "outputs": [],
     "prompt_number": 23
    },
    {
     "cell_type": "markdown",
     "metadata": {},
     "source": [
      "Use the following convenience function for plots for publication "
     ]
    },
    {
     "cell_type": "code",
     "collapsed": false,
     "input": [
      "def fig_size(fig_width_pt):\n",
      "    inches_per_pt = 1.0/72.27               # Convert pt to inch\n",
      "    golden_mean = (sqrt(5)-1.0)/2.0         # Aesthetic ratio\n",
      "    fig_width = fig_width_pt*inches_per_pt  # width in inches\n",
      "    fig_height = fig_width*golden_mean      # height in inches\n",
      "    return (fig_width, fig_height)"
     ],
     "language": "python",
     "metadata": {},
     "outputs": [],
     "prompt_number": 7
    },
    {
     "cell_type": "markdown",
     "metadata": {},
     "source": [
      "For a Latex document with `\\columnwidth` 250 for example, we would use "
     ]
    },
    {
     "cell_type": "code",
     "collapsed": false,
     "input": [
      "params = {\n",
      "    'backend': 'ps',\n",
      "    'axes.labelsize': 10,\n",
      "    'text.fontsize': 10,\n",
      "    'legend.fontsize': 10,\n",
      "    'xtick.labelsize': 8,\n",
      "    'ytick.labelsize': 8,\n",
      "    'text.usetex': True,\n",
      "    'figure.figsize': fig_size(350.0)\n",
      "}; params"
     ],
     "language": "python",
     "metadata": {},
     "outputs": [
      {
       "metadata": {},
       "output_type": "pyout",
       "prompt_number": 36,
       "text": [
        "{'axes.labelsize': 10,\n",
        " 'backend': 'ps',\n",
        " 'figure.figsize': (4.8429500484295005, 2.993107735747381),\n",
        " 'legend.fontsize': 10,\n",
        " 'text.fontsize': 10,\n",
        " 'text.usetex': True,\n",
        " 'xtick.labelsize': 8,\n",
        " 'ytick.labelsize': 8}"
       ]
      }
     ],
     "prompt_number": 36
    },
    {
     "cell_type": "code",
     "collapsed": false,
     "input": [
      "x = np.linspace(0, 5, 10)\n",
      "y = x ** 2"
     ],
     "language": "python",
     "metadata": {},
     "outputs": [],
     "prompt_number": 9
    },
    {
     "cell_type": "markdown",
     "metadata": {},
     "source": [
      "With that, we are ready to make some plots"
     ]
    },
    {
     "cell_type": "code",
     "collapsed": false,
     "input": [
      "# for the publication-ready plots\n",
      "with plt.rc_context(params):\n",
      "    fig, axes = plt.subplots()\n",
      "    axes.plot(x, y, 'r')\n",
      "    axes.set_xlabel('x')\n",
      "    axes.set_ylabel('y')\n",
      "    axes.set_title('title')\n",
      "    fig.savefig('plot.eps')"
     ],
     "language": "python",
     "metadata": {},
     "outputs": [
      {
       "metadata": {},
       "output_type": "display_data",
       "png": "[encoded data removed]",
       "text": [
        "<matplotlib.figure.Figure at 0x1081b3890>"
       ]
      }
     ],
     "prompt_number": 37
    },
    {
     "cell_type": "code",
     "collapsed": false,
     "input": [
      "# for regular plots for inline viewing\n",
      "fig, axes = plt.subplots()\n",
      "axes.plot(x, y, 'r')\n",
      "axes.set_xlabel('x')\n",
      "axes.set_ylabel('y')\n",
      "axes.set_title('title')"
     ],
     "language": "python",
     "metadata": {},
     "outputs": [
      {
       "metadata": {},
       "output_type": "pyout",
       "prompt_number": 38,
       "text": [
        "<matplotlib.text.Text at 0x10cf6d350>"
       ]
      },
      {
       "metadata": {},
       "output_type": "display_data",
       "png": "[encoded data removed]",
       "text": [
        "<matplotlib.figure.Figure at 0x10cc580d0>"
       ]
      }
     ],
     "prompt_number": 38
    },
    {
     "cell_type": "code",
     "collapsed": false,
     "input": [
      "# for xkcd style plots\n",
      "with plt.xkcd():\n",
      "    fig, axes = plt.subplots()\n",
      "    axes.plot(x, y, 'r')\n",
      "    axes.set_xlabel('x')\n",
      "    axes.set_ylabel('y')\n",
      "    axes.set_title('title')"
     ],
     "language": "python",
     "metadata": {},
     "outputs": [
      {
       "metadata": {},
       "output_type": "display_data",
       "png": "[encoded data removed]",
       "text": [
        "<matplotlib.figure.Figure at 0x10b388150>"
       ]
      }
     ],
     "prompt_number": 39
    },
    {
     "cell_type": "markdown",
     "metadata": {},
     "source": [
      "Especially fond of the ability to make plots directly with `pandas` data structures"
     ]
    },
    {
     "cell_type": "code",
     "collapsed": false,
     "input": [
      "df = pd.DataFrame(np.random.randn(50, 4)); df"
     ],
     "language": "python",
     "metadata": {},
     "outputs": [
      {
       "html": [
        "<div style=\"max-height:1000px;max-width:1500px;overflow:auto;\">\n",
        "<table border=\"1\" class=\"dataframe\">\n",
        "  <thead>\n",
        "    <tr style=\"text-align: right;\">\n",
        "      <th></th>\n",
        "      <th>0</th>\n",
        "      <th>1</th>\n",
        "      <th>2</th>\n",
        "      <th>3</th>\n",
        "    </tr>\n",
        "  </thead>\n",
        "  <tbody>\n",
        "    <tr>\n",
        "      <th>0 </th>\n",
        "      <td>-1.300983</td>\n",
        "      <td> 0.643222</td>\n",
        "      <td> 0.006184</td>\n",
        "      <td> 0.179955</td>\n",
        "    </tr>\n",
        "    <tr>\n",
        "      <th>1 </th>\n",
        "      <td>-1.592780</td>\n",
        "      <td> 0.143382</td>\n",
        "      <td>-0.400608</td>\n",
        "      <td>-0.548159</td>\n",
        "    </tr>\n",
        "    <tr>\n",
        "      <th>2 </th>\n",
        "      <td> 0.406332</td>\n",
        "      <td> 0.681158</td>\n",
        "      <td>-0.968723</td>\n",
        "      <td>-1.783453</td>\n",
        "    </tr>\n",
        "    <tr>\n",
        "      <th>3 </th>\n",
        "      <td> 0.125943</td>\n",
        "      <td>-0.583066</td>\n",
        "      <td> 0.238892</td>\n",
        "      <td> 0.141702</td>\n",
        "    </tr>\n",
        "    <tr>\n",
        "      <th>4 </th>\n",
        "      <td> 0.291440</td>\n",
        "      <td>-0.643868</td>\n",
        "      <td> 1.352658</td>\n",
        "      <td> 0.882106</td>\n",
        "    </tr>\n",
        "    <tr>\n",
        "      <th>5 </th>\n",
        "      <td>-1.037308</td>\n",
        "      <td> 0.902828</td>\n",
        "      <td> 2.063994</td>\n",
        "      <td> 0.186043</td>\n",
        "    </tr>\n",
        "    <tr>\n",
        "      <th>6 </th>\n",
        "      <td> 0.066644</td>\n",
        "      <td> 0.025932</td>\n",
        "      <td> 2.722888</td>\n",
        "      <td> 1.257369</td>\n",
        "    </tr>\n",
        "    <tr>\n",
        "      <th>7 </th>\n",
        "      <td>-2.026374</td>\n",
        "      <td> 0.787356</td>\n",
        "      <td> 0.712923</td>\n",
        "      <td>-0.606923</td>\n",
        "    </tr>\n",
        "    <tr>\n",
        "      <th>8 </th>\n",
        "      <td> 0.096706</td>\n",
        "      <td> 2.295585</td>\n",
        "      <td> 0.375796</td>\n",
        "      <td>-0.050451</td>\n",
        "    </tr>\n",
        "    <tr>\n",
        "      <th>9 </th>\n",
        "      <td> 0.309776</td>\n",
        "      <td> 1.005403</td>\n",
        "      <td> 0.997738</td>\n",
        "      <td>-0.281906</td>\n",
        "    </tr>\n",
        "    <tr>\n",
        "      <th>10</th>\n",
        "      <td>-0.918022</td>\n",
        "      <td>-0.152295</td>\n",
        "      <td> 0.564719</td>\n",
        "      <td> 0.028558</td>\n",
        "    </tr>\n",
        "    <tr>\n",
        "      <th>11</th>\n",
        "      <td> 0.802197</td>\n",
        "      <td> 0.338798</td>\n",
        "      <td> 0.176341</td>\n",
        "      <td> 2.020441</td>\n",
        "    </tr>\n",
        "    <tr>\n",
        "      <th>12</th>\n",
        "      <td>-0.747745</td>\n",
        "      <td>-0.351650</td>\n",
        "      <td>-2.355246</td>\n",
        "      <td> 0.452509</td>\n",
        "    </tr>\n",
        "    <tr>\n",
        "      <th>13</th>\n",
        "      <td>-0.858434</td>\n",
        "      <td>-0.476100</td>\n",
        "      <td> 0.108426</td>\n",
        "      <td> 0.092805</td>\n",
        "    </tr>\n",
        "    <tr>\n",
        "      <th>14</th>\n",
        "      <td> 0.206419</td>\n",
        "      <td> 0.409939</td>\n",
        "      <td>-1.247202</td>\n",
        "      <td> 1.387584</td>\n",
        "    </tr>\n",
        "    <tr>\n",
        "      <th>15</th>\n",
        "      <td> 1.688427</td>\n",
        "      <td>-1.769987</td>\n",
        "      <td>-0.157646</td>\n",
        "      <td> 0.519353</td>\n",
        "    </tr>\n",
        "    <tr>\n",
        "      <th>16</th>\n",
        "      <td>-2.447503</td>\n",
        "      <td>-1.293653</td>\n",
        "      <td>-0.661788</td>\n",
        "      <td> 0.221158</td>\n",
        "    </tr>\n",
        "    <tr>\n",
        "      <th>17</th>\n",
        "      <td> 0.020689</td>\n",
        "      <td>-0.757456</td>\n",
        "      <td>-0.518899</td>\n",
        "      <td> 0.422187</td>\n",
        "    </tr>\n",
        "    <tr>\n",
        "      <th>18</th>\n",
        "      <td> 1.138405</td>\n",
        "      <td>-0.367899</td>\n",
        "      <td> 0.187920</td>\n",
        "      <td>-0.397200</td>\n",
        "    </tr>\n",
        "    <tr>\n",
        "      <th>19</th>\n",
        "      <td> 0.818888</td>\n",
        "      <td> 0.626015</td>\n",
        "      <td>-0.108172</td>\n",
        "      <td>-0.117446</td>\n",
        "    </tr>\n",
        "    <tr>\n",
        "      <th>20</th>\n",
        "      <td> 0.305811</td>\n",
        "      <td> 0.273886</td>\n",
        "      <td>-0.189432</td>\n",
        "      <td>-0.143312</td>\n",
        "    </tr>\n",
        "    <tr>\n",
        "      <th>21</th>\n",
        "      <td> 0.574535</td>\n",
        "      <td> 0.013239</td>\n",
        "      <td> 1.399553</td>\n",
        "      <td> 0.184143</td>\n",
        "    </tr>\n",
        "    <tr>\n",
        "      <th>22</th>\n",
        "      <td>-0.187610</td>\n",
        "      <td>-1.927823</td>\n",
        "      <td> 0.600212</td>\n",
        "      <td> 0.109498</td>\n",
        "    </tr>\n",
        "    <tr>\n",
        "      <th>23</th>\n",
        "      <td> 1.011310</td>\n",
        "      <td> 0.852913</td>\n",
        "      <td> 0.386079</td>\n",
        "      <td>-0.001569</td>\n",
        "    </tr>\n",
        "    <tr>\n",
        "      <th>24</th>\n",
        "      <td> 1.253333</td>\n",
        "      <td> 1.107135</td>\n",
        "      <td>-1.282181</td>\n",
        "      <td>-0.426666</td>\n",
        "    </tr>\n",
        "    <tr>\n",
        "      <th>25</th>\n",
        "      <td> 1.195914</td>\n",
        "      <td> 2.272395</td>\n",
        "      <td> 0.163124</td>\n",
        "      <td>-0.712061</td>\n",
        "    </tr>\n",
        "    <tr>\n",
        "      <th>26</th>\n",
        "      <td>-0.141478</td>\n",
        "      <td> 0.616257</td>\n",
        "      <td> 0.024777</td>\n",
        "      <td> 1.446246</td>\n",
        "    </tr>\n",
        "    <tr>\n",
        "      <th>27</th>\n",
        "      <td>-0.069443</td>\n",
        "      <td> 0.995240</td>\n",
        "      <td>-0.000093</td>\n",
        "      <td> 1.382021</td>\n",
        "    </tr>\n",
        "    <tr>\n",
        "      <th>28</th>\n",
        "      <td> 0.763239</td>\n",
        "      <td>-0.518862</td>\n",
        "      <td> 0.205918</td>\n",
        "      <td>-0.924978</td>\n",
        "    </tr>\n",
        "    <tr>\n",
        "      <th>29</th>\n",
        "      <td>-0.249182</td>\n",
        "      <td> 1.169634</td>\n",
        "      <td> 0.423234</td>\n",
        "      <td> 1.447255</td>\n",
        "    </tr>\n",
        "    <tr>\n",
        "      <th>30</th>\n",
        "      <td>-0.771087</td>\n",
        "      <td>-0.012732</td>\n",
        "      <td>-1.249287</td>\n",
        "      <td> 2.210176</td>\n",
        "    </tr>\n",
        "    <tr>\n",
        "      <th>31</th>\n",
        "      <td>-0.440266</td>\n",
        "      <td>-0.764197</td>\n",
        "      <td> 0.907487</td>\n",
        "      <td> 0.661119</td>\n",
        "    </tr>\n",
        "    <tr>\n",
        "      <th>32</th>\n",
        "      <td>-0.476058</td>\n",
        "      <td>-0.220014</td>\n",
        "      <td>-0.168929</td>\n",
        "      <td> 0.960322</td>\n",
        "    </tr>\n",
        "    <tr>\n",
        "      <th>33</th>\n",
        "      <td>-1.248578</td>\n",
        "      <td>-1.608724</td>\n",
        "      <td>-0.795841</td>\n",
        "      <td> 0.853362</td>\n",
        "    </tr>\n",
        "    <tr>\n",
        "      <th>34</th>\n",
        "      <td> 1.850890</td>\n",
        "      <td> 0.698203</td>\n",
        "      <td> 0.022767</td>\n",
        "      <td>-0.619157</td>\n",
        "    </tr>\n",
        "    <tr>\n",
        "      <th>35</th>\n",
        "      <td>-1.350387</td>\n",
        "      <td>-0.618821</td>\n",
        "      <td>-1.306845</td>\n",
        "      <td>-0.377593</td>\n",
        "    </tr>\n",
        "    <tr>\n",
        "      <th>36</th>\n",
        "      <td> 1.362776</td>\n",
        "      <td>-0.435933</td>\n",
        "      <td>-0.912791</td>\n",
        "      <td>-1.268457</td>\n",
        "    </tr>\n",
        "    <tr>\n",
        "      <th>37</th>\n",
        "      <td>-1.095777</td>\n",
        "      <td>-1.389291</td>\n",
        "      <td>-0.589067</td>\n",
        "      <td> 1.646494</td>\n",
        "    </tr>\n",
        "    <tr>\n",
        "      <th>38</th>\n",
        "      <td> 0.848262</td>\n",
        "      <td> 0.373428</td>\n",
        "      <td> 0.079674</td>\n",
        "      <td>-0.646718</td>\n",
        "    </tr>\n",
        "    <tr>\n",
        "      <th>39</th>\n",
        "      <td>-0.690035</td>\n",
        "      <td> 0.104079</td>\n",
        "      <td> 0.186643</td>\n",
        "      <td>-1.230061</td>\n",
        "    </tr>\n",
        "    <tr>\n",
        "      <th>40</th>\n",
        "      <td>-1.065857</td>\n",
        "      <td> 0.017562</td>\n",
        "      <td> 1.883081</td>\n",
        "      <td> 0.252582</td>\n",
        "    </tr>\n",
        "    <tr>\n",
        "      <th>41</th>\n",
        "      <td>-0.297621</td>\n",
        "      <td>-1.596460</td>\n",
        "      <td>-1.171453</td>\n",
        "      <td>-0.718679</td>\n",
        "    </tr>\n",
        "    <tr>\n",
        "      <th>42</th>\n",
        "      <td> 0.850229</td>\n",
        "      <td> 0.192717</td>\n",
        "      <td>-1.018397</td>\n",
        "      <td> 0.001440</td>\n",
        "    </tr>\n",
        "    <tr>\n",
        "      <th>43</th>\n",
        "      <td> 1.388383</td>\n",
        "      <td> 1.093228</td>\n",
        "      <td> 2.287663</td>\n",
        "      <td>-0.364893</td>\n",
        "    </tr>\n",
        "    <tr>\n",
        "      <th>44</th>\n",
        "      <td>-1.443422</td>\n",
        "      <td>-0.317341</td>\n",
        "      <td> 0.737406</td>\n",
        "      <td>-0.404353</td>\n",
        "    </tr>\n",
        "    <tr>\n",
        "      <th>45</th>\n",
        "      <td>-2.224350</td>\n",
        "      <td>-0.581216</td>\n",
        "      <td>-1.170252</td>\n",
        "      <td>-2.132834</td>\n",
        "    </tr>\n",
        "    <tr>\n",
        "      <th>46</th>\n",
        "      <td> 0.532583</td>\n",
        "      <td> 0.960305</td>\n",
        "      <td>-0.540502</td>\n",
        "      <td> 0.291832</td>\n",
        "    </tr>\n",
        "    <tr>\n",
        "      <th>47</th>\n",
        "      <td>-0.138568</td>\n",
        "      <td>-2.211217</td>\n",
        "      <td> 1.129461</td>\n",
        "      <td> 0.332477</td>\n",
        "    </tr>\n",
        "    <tr>\n",
        "      <th>48</th>\n",
        "      <td> 0.431633</td>\n",
        "      <td> 0.283250</td>\n",
        "      <td>-1.757495</td>\n",
        "      <td>-0.065507</td>\n",
        "    </tr>\n",
        "    <tr>\n",
        "      <th>49</th>\n",
        "      <td>-0.752496</td>\n",
        "      <td> 0.889527</td>\n",
        "      <td>-0.644684</td>\n",
        "      <td> 2.559141</td>\n",
        "    </tr>\n",
        "  </tbody>\n",
        "</table>\n",
        "</div>"
       ],
       "metadata": {},
       "output_type": "pyout",
       "prompt_number": 32,
       "text": [
        "           0         1         2         3\n",
        "0  -1.300983  0.643222  0.006184  0.179955\n",
        "1  -1.592780  0.143382 -0.400608 -0.548159\n",
        "2   0.406332  0.681158 -0.968723 -1.783453\n",
        "3   0.125943 -0.583066  0.238892  0.141702\n",
        "4   0.291440 -0.643868  1.352658  0.882106\n",
        "5  -1.037308  0.902828  2.063994  0.186043\n",
        "6   0.066644  0.025932  2.722888  1.257369\n",
        "7  -2.026374  0.787356  0.712923 -0.606923\n",
        "8   0.096706  2.295585  0.375796 -0.050451\n",
        "9   0.309776  1.005403  0.997738 -0.281906\n",
        "10 -0.918022 -0.152295  0.564719  0.028558\n",
        "11  0.802197  0.338798  0.176341  2.020441\n",
        "12 -0.747745 -0.351650 -2.355246  0.452509\n",
        "13 -0.858434 -0.476100  0.108426  0.092805\n",
        "14  0.206419  0.409939 -1.247202  1.387584\n",
        "15  1.688427 -1.769987 -0.157646  0.519353\n",
        "16 -2.447503 -1.293653 -0.661788  0.221158\n",
        "17  0.020689 -0.757456 -0.518899  0.422187\n",
        "18  1.138405 -0.367899  0.187920 -0.397200\n",
        "19  0.818888  0.626015 -0.108172 -0.117446\n",
        "20  0.305811  0.273886 -0.189432 -0.143312\n",
        "21  0.574535  0.013239  1.399553  0.184143\n",
        "22 -0.187610 -1.927823  0.600212  0.109498\n",
        "23  1.011310  0.852913  0.386079 -0.001569\n",
        "24  1.253333  1.107135 -1.282181 -0.426666\n",
        "25  1.195914  2.272395  0.163124 -0.712061\n",
        "26 -0.141478  0.616257  0.024777  1.446246\n",
        "27 -0.069443  0.995240 -0.000093  1.382021\n",
        "28  0.763239 -0.518862  0.205918 -0.924978\n",
        "29 -0.249182  1.169634  0.423234  1.447255\n",
        "30 -0.771087 -0.012732 -1.249287  2.210176\n",
        "31 -0.440266 -0.764197  0.907487  0.661119\n",
        "32 -0.476058 -0.220014 -0.168929  0.960322\n",
        "33 -1.248578 -1.608724 -0.795841  0.853362\n",
        "34  1.850890  0.698203  0.022767 -0.619157\n",
        "35 -1.350387 -0.618821 -1.306845 -0.377593\n",
        "36  1.362776 -0.435933 -0.912791 -1.268457\n",
        "37 -1.095777 -1.389291 -0.589067  1.646494\n",
        "38  0.848262  0.373428  0.079674 -0.646718\n",
        "39 -0.690035  0.104079  0.186643 -1.230061\n",
        "40 -1.065857  0.017562  1.883081  0.252582\n",
        "41 -0.297621 -1.596460 -1.171453 -0.718679\n",
        "42  0.850229  0.192717 -1.018397  0.001440\n",
        "43  1.388383  1.093228  2.287663 -0.364893\n",
        "44 -1.443422 -0.317341  0.737406 -0.404353\n",
        "45 -2.224350 -0.581216 -1.170252 -2.132834\n",
        "46  0.532583  0.960305 -0.540502  0.291832\n",
        "47 -0.138568 -2.211217  1.129461  0.332477\n",
        "48  0.431633  0.283250 -1.757495 -0.065507\n",
        "49 -0.752496  0.889527 -0.644684  2.559141"
       ]
      }
     ],
     "prompt_number": 32
    },
    {
     "cell_type": "code",
     "collapsed": false,
     "input": [
      "# for the publication-ready plots\n",
      "with plt.rc_context(params):\n",
      "    fig, axes = plt.subplots()\n",
      "    df.plot(ax=axes, style='o')\n",
      "    axes.set_xlabel('x')\n",
      "    axes.set_ylabel('y')\n",
      "    axes.set_title('a pretty random plot')\n",
      "#     fig.savefig('plot.eps')"
     ],
     "language": "python",
     "metadata": {},
     "outputs": [
      {
       "metadata": {},
       "output_type": "display_data",
       "png": "[encoded data removed]",
       "text": [
        "<matplotlib.figure.Figure at 0x10ccd8490>"
       ]
      }
     ],
     "prompt_number": 40
    },
    {
     "cell_type": "code",
     "collapsed": false,
     "input": [],
     "language": "python",
     "metadata": {},
     "outputs": []
    }
   ],
   "metadata": {}
  }
 ]
}